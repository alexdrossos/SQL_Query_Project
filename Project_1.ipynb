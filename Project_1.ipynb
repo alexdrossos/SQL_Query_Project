{
 "cells": [
  {
   "cell_type": "markdown",
   "metadata": {},
   "source": [
    "### Import that Pandas package.  We will use to hold the results of the queries, print Pandas tables, and print simple data visualizations."
   ]
  },
  {
   "cell_type": "code",
   "execution_count": 74,
   "metadata": {},
   "outputs": [],
   "source": [
    "import pandas as pd\n",
    "import matplotlib.pyplot as plt\n",
    "import numpy as np"
   ]
  },
  {
   "cell_type": "code",
   "execution_count": 75,
   "metadata": {},
   "outputs": [
    {
     "name": "stdout",
     "output_type": "stream",
     "text": [
      "Requirement already satisfied: google-cloud-bigquery-storage in /opt/conda/lib/python3.7/site-packages (2.6.3)\n",
      "Requirement already satisfied: google-api-core[grpc]<3.0.0dev,>=1.26.0 in /opt/conda/lib/python3.7/site-packages (from google-cloud-bigquery-storage) (1.31.1)\n",
      "Requirement already satisfied: libcst>=0.2.5 in /opt/conda/lib/python3.7/site-packages (from google-cloud-bigquery-storage) (0.3.20)\n",
      "Requirement already satisfied: proto-plus>=1.4.0 in /opt/conda/lib/python3.7/site-packages (from google-cloud-bigquery-storage) (1.19.0)\n",
      "Requirement already satisfied: packaging>=14.3 in /opt/conda/lib/python3.7/site-packages (from google-cloud-bigquery-storage) (21.0)\n",
      "Requirement already satisfied: requests<3.0.0dev,>=2.18.0 in /opt/conda/lib/python3.7/site-packages (from google-api-core[grpc]<3.0.0dev,>=1.26.0->google-cloud-bigquery-storage) (2.25.1)\n",
      "Requirement already satisfied: pytz in /opt/conda/lib/python3.7/site-packages (from google-api-core[grpc]<3.0.0dev,>=1.26.0->google-cloud-bigquery-storage) (2021.1)\n",
      "Requirement already satisfied: six>=1.13.0 in /opt/conda/lib/python3.7/site-packages (from google-api-core[grpc]<3.0.0dev,>=1.26.0->google-cloud-bigquery-storage) (1.16.0)\n",
      "Requirement already satisfied: protobuf>=3.12.0 in /opt/conda/lib/python3.7/site-packages (from google-api-core[grpc]<3.0.0dev,>=1.26.0->google-cloud-bigquery-storage) (3.16.0)\n",
      "Requirement already satisfied: setuptools>=40.3.0 in /opt/conda/lib/python3.7/site-packages (from google-api-core[grpc]<3.0.0dev,>=1.26.0->google-cloud-bigquery-storage) (57.4.0)\n",
      "Requirement already satisfied: googleapis-common-protos<2.0dev,>=1.6.0 in /opt/conda/lib/python3.7/site-packages (from google-api-core[grpc]<3.0.0dev,>=1.26.0->google-cloud-bigquery-storage) (1.53.0)\n",
      "Requirement already satisfied: google-auth<2.0dev,>=1.25.0 in /opt/conda/lib/python3.7/site-packages (from google-api-core[grpc]<3.0.0dev,>=1.26.0->google-cloud-bigquery-storage) (1.34.0)\n",
      "Requirement already satisfied: grpcio<2.0dev,>=1.29.0 in /opt/conda/lib/python3.7/site-packages (from google-api-core[grpc]<3.0.0dev,>=1.26.0->google-cloud-bigquery-storage) (1.38.1)\n",
      "Requirement already satisfied: pyasn1-modules>=0.2.1 in /opt/conda/lib/python3.7/site-packages (from google-auth<2.0dev,>=1.25.0->google-api-core[grpc]<3.0.0dev,>=1.26.0->google-cloud-bigquery-storage) (0.2.7)\n",
      "Requirement already satisfied: rsa<5,>=3.1.4 in /opt/conda/lib/python3.7/site-packages (from google-auth<2.0dev,>=1.25.0->google-api-core[grpc]<3.0.0dev,>=1.26.0->google-cloud-bigquery-storage) (4.7.2)\n",
      "Requirement already satisfied: cachetools<5.0,>=2.0.0 in /opt/conda/lib/python3.7/site-packages (from google-auth<2.0dev,>=1.25.0->google-api-core[grpc]<3.0.0dev,>=1.26.0->google-cloud-bigquery-storage) (4.2.2)\n",
      "Requirement already satisfied: typing-inspect>=0.4.0 in /opt/conda/lib/python3.7/site-packages (from libcst>=0.2.5->google-cloud-bigquery-storage) (0.7.1)\n",
      "Requirement already satisfied: pyyaml>=5.2 in /opt/conda/lib/python3.7/site-packages (from libcst>=0.2.5->google-cloud-bigquery-storage) (5.4.1)\n",
      "Requirement already satisfied: typing-extensions>=3.7.4.2 in /opt/conda/lib/python3.7/site-packages (from libcst>=0.2.5->google-cloud-bigquery-storage) (3.10.0.0)\n",
      "Requirement already satisfied: pyparsing>=2.0.2 in /opt/conda/lib/python3.7/site-packages (from packaging>=14.3->google-cloud-bigquery-storage) (2.4.7)\n",
      "Requirement already satisfied: pyasn1<0.5.0,>=0.4.6 in /opt/conda/lib/python3.7/site-packages (from pyasn1-modules>=0.2.1->google-auth<2.0dev,>=1.25.0->google-api-core[grpc]<3.0.0dev,>=1.26.0->google-cloud-bigquery-storage) (0.4.8)\n",
      "Requirement already satisfied: chardet<5,>=3.0.2 in /opt/conda/lib/python3.7/site-packages (from requests<3.0.0dev,>=2.18.0->google-api-core[grpc]<3.0.0dev,>=1.26.0->google-cloud-bigquery-storage) (4.0.0)\n",
      "Requirement already satisfied: urllib3<1.27,>=1.21.1 in /opt/conda/lib/python3.7/site-packages (from requests<3.0.0dev,>=2.18.0->google-api-core[grpc]<3.0.0dev,>=1.26.0->google-cloud-bigquery-storage) (1.26.6)\n",
      "Requirement already satisfied: certifi>=2017.4.17 in /opt/conda/lib/python3.7/site-packages (from requests<3.0.0dev,>=2.18.0->google-api-core[grpc]<3.0.0dev,>=1.26.0->google-cloud-bigquery-storage) (2021.5.30)\n",
      "Requirement already satisfied: idna<3,>=2.5 in /opt/conda/lib/python3.7/site-packages (from requests<3.0.0dev,>=2.18.0->google-api-core[grpc]<3.0.0dev,>=1.26.0->google-cloud-bigquery-storage) (2.10)\n",
      "Requirement already satisfied: mypy-extensions>=0.3.0 in /opt/conda/lib/python3.7/site-packages (from typing-inspect>=0.4.0->libcst>=0.2.5->google-cloud-bigquery-storage) (0.4.3)\n",
      "Requirement already satisfied: geopandas in /opt/conda/lib/python3.7/site-packages (0.9.0)\n",
      "Requirement already satisfied: pyproj>=2.2.0 in /opt/conda/lib/python3.7/site-packages (from geopandas) (3.2.1)\n",
      "Requirement already satisfied: shapely>=1.6 in /opt/conda/lib/python3.7/site-packages (from geopandas) (1.7.1)\n",
      "Requirement already satisfied: pandas>=0.24.0 in /opt/conda/lib/python3.7/site-packages (from geopandas) (1.3.2)\n",
      "Requirement already satisfied: fiona>=1.8 in /opt/conda/lib/python3.7/site-packages (from geopandas) (1.8.20)\n",
      "Requirement already satisfied: attrs>=17 in /opt/conda/lib/python3.7/site-packages (from fiona>=1.8->geopandas) (21.2.0)\n",
      "Requirement already satisfied: munch in /opt/conda/lib/python3.7/site-packages (from fiona>=1.8->geopandas) (2.5.0)\n",
      "Requirement already satisfied: certifi in /opt/conda/lib/python3.7/site-packages (from fiona>=1.8->geopandas) (2021.5.30)\n",
      "Requirement already satisfied: cligj>=0.5 in /opt/conda/lib/python3.7/site-packages (from fiona>=1.8->geopandas) (0.7.2)\n",
      "Requirement already satisfied: six>=1.7 in /opt/conda/lib/python3.7/site-packages (from fiona>=1.8->geopandas) (1.16.0)\n",
      "Requirement already satisfied: click>=4.0 in /opt/conda/lib/python3.7/site-packages (from fiona>=1.8->geopandas) (8.0.1)\n",
      "Requirement already satisfied: click-plugins>=1.0 in /opt/conda/lib/python3.7/site-packages (from fiona>=1.8->geopandas) (1.1.1)\n",
      "Requirement already satisfied: setuptools in /opt/conda/lib/python3.7/site-packages (from fiona>=1.8->geopandas) (57.4.0)\n",
      "Requirement already satisfied: importlib-metadata in /opt/conda/lib/python3.7/site-packages (from click>=4.0->fiona>=1.8->geopandas) (4.6.4)\n",
      "Requirement already satisfied: numpy>=1.17.3 in /opt/conda/lib/python3.7/site-packages (from pandas>=0.24.0->geopandas) (1.19.5)\n",
      "Requirement already satisfied: python-dateutil>=2.7.3 in /opt/conda/lib/python3.7/site-packages (from pandas>=0.24.0->geopandas) (2.8.2)\n",
      "Requirement already satisfied: pytz>=2017.3 in /opt/conda/lib/python3.7/site-packages (from pandas>=0.24.0->geopandas) (2021.1)\n",
      "Requirement already satisfied: typing-extensions>=3.6.4 in /opt/conda/lib/python3.7/site-packages (from importlib-metadata->click>=4.0->fiona>=1.8->geopandas) (3.10.0.0)\n",
      "Requirement already satisfied: zipp>=0.5 in /opt/conda/lib/python3.7/site-packages (from importlib-metadata->click>=4.0->fiona>=1.8->geopandas) (3.5.0)\n",
      "Collecting package metadata (current_repodata.json): done\n",
      "Solving environment: done\n",
      "\n",
      "## Package Plan ##\n",
      "\n",
      "  environment location: /opt/conda\n",
      "\n",
      "  added / updated specs:\n",
      "    - plotly\n",
      "\n",
      "\n",
      "The following packages will be downloaded:\n",
      "\n",
      "    package                    |            build\n",
      "    ---------------------------|-----------------\n",
      "    conda-4.10.3               |   py37h89c1867_2         3.1 MB  conda-forge\n",
      "    openssl-1.1.1l             |       h7f98852_0         2.1 MB  conda-forge\n",
      "    plotly-5.3.1               |             py_0         6.8 MB  plotly\n",
      "    ------------------------------------------------------------\n",
      "                                           Total:        12.0 MB\n",
      "\n",
      "The following NEW packages will be INSTALLED:\n",
      "\n",
      "  plotly             plotly/noarch::plotly-5.3.1-py_0\n",
      "\n",
      "The following packages will be UPDATED:\n",
      "\n",
      "  conda                               4.10.3-py37h89c1867_0 --> 4.10.3-py37h89c1867_2\n",
      "  openssl                                 1.1.1k-h7f98852_1 --> 1.1.1l-h7f98852_0\n",
      "\n",
      "\n",
      "Proceed ([y]/n)? ^C\n",
      "\n",
      "CondaSystemExit: \n",
      "Operation aborted.  Exiting.\n",
      "\n"
     ]
    }
   ],
   "source": [
    "!pip install google-cloud-bigquery-storage\n",
    "!pip install geopandas\n",
    "!conda install -c plotly plotly"
   ]
  },
  {
   "cell_type": "markdown",
   "metadata": {},
   "source": [
    "### What are the 5 most popular trips that you would call \"commuter trips\"? "
   ]
  },
  {
   "cell_type": "code",
   "execution_count": 50,
   "metadata": {},
   "outputs": [
    {
     "name": "stderr",
     "output_type": "stream",
     "text": [
      "Query complete after 0.01s: 100%|██████████| 4/4 [00:00<00:00, 843.03query/s]                         \n",
      "Downloading: 100%|██████████| 1/1 [00:01<00:00,  1.15s/rows]\n"
     ]
    }
   ],
   "source": [
    "%%bigquery commuter_type_1\n",
    "WITH Input AS (\n",
    "    SELECT trip_id, CONCAT(start_station_id, '-', end_station_id) AS route_id,\n",
    "    CONCAT(start_station_name, '-', end_station_name) AS route_name,\n",
    "    EXTRACT(TIME FROM start_date AT TIME ZONE \"UTC\") AS time\n",
    "    FROM `bigquery-public-data.san_francisco.bikeshare_trips`\n",
    "    WHERE start_station_name LIKE '%Caltrain%' \n",
    "    AND subscriber_type = 'Subscriber'\n",
    "    )\n",
    "    SELECT COUNT(DISTINCT trip_id) AS route_count, route_name\n",
    "    FROM Input\n",
    "    WHERE time BETWEEN '07:45:00' AND '08:45:00'\n",
    "    GROUP BY route_id, route_name\n",
    "    ORDER BY route_count DESC\n",
    "    LIMIT 1"
   ]
  },
  {
   "cell_type": "code",
   "execution_count": 51,
   "metadata": {},
   "outputs": [
    {
     "name": "stderr",
     "output_type": "stream",
     "text": [
      "Query complete after 0.00s: 100%|██████████| 4/4 [00:00<00:00, 1304.10query/s]                        \n",
      "Downloading: 100%|██████████| 1/1 [00:01<00:00,  1.12s/rows]\n"
     ]
    }
   ],
   "source": [
    "%%bigquery commuter_type_2\n",
    "WITH Input AS (\n",
    "    SELECT trip_id, CONCAT(start_station_id, '-', end_station_id) AS route_id,\n",
    "    CONCAT(start_station_name, '-', end_station_name) AS route_name,\n",
    "    EXTRACT(TIME FROM start_date AT TIME ZONE \"UTC\") AS time\n",
    "    FROM `bigquery-public-data.san_francisco.bikeshare_trips`\n",
    "    WHERE end_station_name LIKE '%Caltrain%' \n",
    "    AND subscriber_type = 'Subscriber'\n",
    "    )\n",
    "    SELECT COUNT(DISTINCT trip_id) AS route_count, route_name \n",
    "    FROM Input\n",
    "    WHERE time BETWEEN '16:30:00' AND '18:00:00'\n",
    "    GROUP BY route_id, route_name\n",
    "    ORDER BY route_count DESC\n",
    "    LIMIT 1"
   ]
  },
  {
   "cell_type": "code",
   "execution_count": 52,
   "metadata": {},
   "outputs": [
    {
     "name": "stderr",
     "output_type": "stream",
     "text": [
      "Query complete after 0.00s: 100%|██████████| 4/4 [00:00<00:00, 1362.67query/s]                        \n",
      "Downloading: 100%|██████████| 1/1 [00:01<00:00,  1.14s/rows]\n"
     ]
    }
   ],
   "source": [
    "%%bigquery commuter_type_3\n",
    "WITH Input AS (\n",
    "    SELECT trip_id, CONCAT(start_station_id, '-', end_station_id) AS route_id,\n",
    "    CONCAT(start_station_name, '-', end_station_name) AS route_name,\n",
    "    EXTRACT(TIME FROM end_date AT TIME ZONE \"UTC\") AS end_time\n",
    "    FROM `bigquery-public-data.san_francisco.bikeshare_trips`\n",
    "    WHERE end_station_id IN (41, 42, 45, 46, 48, 82)\n",
    "    AND subscriber_type = 'Subscriber'\n",
    "    )\n",
    "    SELECT COUNT(DISTINCT trip_id) AS route_count, route_name \n",
    "    FROM Input\n",
    "    WHERE end_time BETWEEN '08:30:00' AND '09:15:00'\n",
    "    GROUP BY route_id, route_name\n",
    "    ORDER BY route_count DESC\n",
    "    LIMIT 1"
   ]
  },
  {
   "cell_type": "code",
   "execution_count": 53,
   "metadata": {},
   "outputs": [
    {
     "name": "stderr",
     "output_type": "stream",
     "text": [
      "Query complete after 0.00s: 100%|██████████| 4/4 [00:00<00:00, 1165.41query/s]                        \n",
      "Downloading: 100%|██████████| 1/1 [00:01<00:00,  1.21s/rows]\n"
     ]
    }
   ],
   "source": [
    "%%bigquery commuter_type_4\n",
    "WITH Input AS (\n",
    "    SELECT trip_id, CONCAT(start_station_id, '-', end_station_id) AS route_id,\n",
    "    CONCAT(start_station_name, '-', end_station_name) AS route_name,\n",
    "    EXTRACT(TIME FROM start_date AT TIME ZONE \"UTC\") AS start_time\n",
    "    FROM `bigquery-public-data.san_francisco.bikeshare_trips`\n",
    "    WHERE end_station_id IN (12, 16, 25, 35)\n",
    "    AND subscriber_type = 'Subscriber'\n",
    "    )\n",
    "    SELECT COUNT(DISTINCT trip_id) AS route_count, route_name \n",
    "    FROM Input\n",
    "    WHERE start_time BETWEEN '08:00:00' AND '09:30:00'\n",
    "    GROUP BY route_id, route_name\n",
    "    ORDER BY route_count DESC\n",
    "    LIMIT 1"
   ]
  },
  {
   "cell_type": "code",
   "execution_count": 54,
   "metadata": {},
   "outputs": [
    {
     "name": "stderr",
     "output_type": "stream",
     "text": [
      "Query complete after 0.00s: 100%|██████████| 4/4 [00:00<00:00, 1414.72query/s]                        \n",
      "Downloading: 100%|██████████| 1/1 [00:01<00:00,  1.07s/rows]\n"
     ]
    }
   ],
   "source": [
    "%%bigquery commuter_type_5\n",
    "WITH Input AS (\n",
    "    SELECT trip_id, CONCAT(start_station_id, '-', end_station_id) AS route_id,\n",
    "    CONCAT(start_station_name, '-', end_station_name) AS route_name,\n",
    "    EXTRACT(TIME FROM start_date AT TIME ZONE \"UTC\") AS start_time\n",
    "    FROM `bigquery-public-data.san_francisco.bikeshare_trips`\n",
    "    WHERE start_station_id IN (12, 16, 25, 35)\n",
    "    AND subscriber_type = 'Subscriber'\n",
    "    )\n",
    "    SELECT COUNT(DISTINCT trip_id) AS route_count, route_name \n",
    "    FROM Input\n",
    "    WHERE start_time BETWEEN '15:00:00' AND '17:00:00'\n",
    "    GROUP BY route_id, route_name\n",
    "    ORDER BY route_count DESC\n",
    "    LIMIT 1"
   ]
  },
  {
   "cell_type": "code",
   "execution_count": 90,
   "metadata": {},
   "outputs": [
    {
     "data": {
      "text/html": [
       "<div>\n",
       "<style scoped>\n",
       "    .dataframe tbody tr th:only-of-type {\n",
       "        vertical-align: middle;\n",
       "    }\n",
       "\n",
       "    .dataframe tbody tr th {\n",
       "        vertical-align: top;\n",
       "    }\n",
       "\n",
       "    .dataframe thead th {\n",
       "        text-align: right;\n",
       "    }\n",
       "</style>\n",
       "<table border=\"1\" class=\"dataframe\">\n",
       "  <thead>\n",
       "    <tr style=\"text-align: right;\">\n",
       "      <th></th>\n",
       "      <th>commute_type</th>\n",
       "      <th>route_name</th>\n",
       "      <th>route_count</th>\n",
       "    </tr>\n",
       "  </thead>\n",
       "  <tbody>\n",
       "    <tr>\n",
       "      <th>0</th>\n",
       "      <td>Morning Caltrain</td>\n",
       "      <td>San Francisco Caltrain (Townsend at 4th)-Harry Bridges Plaza (Ferry Building)</td>\n",
       "      <td>1795</td>\n",
       "    </tr>\n",
       "    <tr>\n",
       "      <th>0</th>\n",
       "      <td>Evening Caltrain</td>\n",
       "      <td>Embarcadero at Folsom-San Francisco Caltrain (Townsend at 4th)</td>\n",
       "      <td>2739</td>\n",
       "    </tr>\n",
       "    <tr>\n",
       "      <th>0</th>\n",
       "      <td>Morning F Dist</td>\n",
       "      <td>Beale at Market-Commercial at Montgomery</td>\n",
       "      <td>615</td>\n",
       "    </tr>\n",
       "    <tr>\n",
       "      <th>0</th>\n",
       "      <td>Morning Uni</td>\n",
       "      <td>Santa Clara at Almaden-SJSU 4th at San Carlos</td>\n",
       "      <td>222</td>\n",
       "    </tr>\n",
       "    <tr>\n",
       "      <th>0</th>\n",
       "      <td>Evening Uni</td>\n",
       "      <td>Stanford in Redwood City-Redwood City Caltrain Station</td>\n",
       "      <td>303</td>\n",
       "    </tr>\n",
       "  </tbody>\n",
       "</table>\n",
       "</div>"
      ],
      "text/plain": [
       "       commute_type  \\\n",
       "0  Morning Caltrain   \n",
       "0  Evening Caltrain   \n",
       "0    Morning F Dist   \n",
       "0       Morning Uni   \n",
       "0       Evening Uni   \n",
       "\n",
       "                                                                      route_name  \\\n",
       "0  San Francisco Caltrain (Townsend at 4th)-Harry Bridges Plaza (Ferry Building)   \n",
       "0                 Embarcadero at Folsom-San Francisco Caltrain (Townsend at 4th)   \n",
       "0                                       Beale at Market-Commercial at Montgomery   \n",
       "0                                  Santa Clara at Almaden-SJSU 4th at San Carlos   \n",
       "0                         Stanford in Redwood City-Redwood City Caltrain Station   \n",
       "\n",
       "   route_count  \n",
       "0         1795  \n",
       "0         2739  \n",
       "0          615  \n",
       "0          222  \n",
       "0          303  "
      ]
     },
     "execution_count": 90,
     "metadata": {},
     "output_type": "execute_result"
    }
   ],
   "source": [
    "pd.set_option('display.max_colwidth', None)\n",
    "frames = [commuter_type_1, commuter_type_2, commuter_type_3, commuter_type_4, commuter_type_5]\n",
    "trip_types = ['Morning Caltrain', 'Evening Caltrain', 'Morning F Dist', 'Morning Uni', 'Evening Uni']\n",
    "t1 = pd.concat(frames)\n",
    "t1['commute_type'] = trip_types\n",
    "cols = ['commute_type', 'route_name', 'route_count']\n",
    "t1 = t1[cols]\n",
    "t1"
   ]
  },
  {
   "cell_type": "markdown",
   "metadata": {},
   "source": [
    "We thought through logically what the 5 most popular \"buckets\" of commuter trip would be, and then from there performed data analysis to determine which was the most popular *route* for each bucket. Our thought process was as follows. \n",
    "Caltrain stations would be ideal morning start destinations (end destinations for evening trips) for commuters coming in from different parts of the city. To fitler the data further, we're assuming that commuters would have some kind of membership and that they would occur between 7:45AM-8:45AM for morning commutes and 4:30PM-6:00PM for evening commutes. \n",
    "Another type of commuter trip that we considered was trips that end in the financial district, because that particular area of the city has a lot of office buildings. Using the station map online, we determined the IDs of the 6 main stations in that area and filtered the data on those values. The last bucket we considered were university commute trips. To determine what trips this demographic is taking, we looked up the top 5 busiest stations near universities and found the most popular route for students getting to morning classes and leaving evening classes. This figure represents these route findings."
   ]
  },
  {
   "cell_type": "markdown",
   "metadata": {},
   "source": [
    "### What are your recommendations for offers (justify based on your findings)?"
   ]
  },
  {
   "cell_type": "markdown",
   "metadata": {},
   "source": [
    "- Are monthly or annual memberships being taken advantage of my commuters?"
   ]
  },
  {
   "cell_type": "markdown",
   "metadata": {},
   "source": [
    "```CREATE VIEW Project_1.commuter_trip_info AS  \n",
    "SELECT trip_id, end_station_id, end_station_name, subscriber_type,  \n",
    "EXTRACT(TIME FROM start_date AT  TIME ZONE \"UTC\") AS start_time, duration_sec  \n",
    "FROM bigquery-public-data.san_francisco.bikeshare_trips;```"
   ]
  },
  {
   "cell_type": "markdown",
   "metadata": {},
   "source": [
    "```CREATE VIEW Project_1.top_10_commuter_stations AS\n",
    "SELECT end_station_id, end_station_name, COUNT (DISTINCT trip_id) AS num_trips\n",
    "FROM alien-house-324100.Project_1.commuter_trip_info\n",
    "WHERE start_time BETWEEN \"07:30:00\" AND \"09:00:00\"\n",
    "AND duration_sec < 1500\n",
    "GROUP BY end_station_id, end_station_name\n",
    "ORDER BY num_trips DESC\n",
    "LIMIT 10;```"
   ]
  },
  {
   "cell_type": "markdown",
   "metadata": {},
   "source": [
    "```CREATE VIEW Project_1.commuter_trip_counts AS\n",
    "SELECT end_station_id, COUNT (DISTINCT trip_id) as num_trips, subscriber_type\n",
    "FROM bigquery-public-data.san_francisco.bikeshare_trips\n",
    "WHERE time(CAST(start_date AS datetime)) BETWEEN \"07:30:00\" AND \"09:00:00\"\n",
    "AND duration_sec < 1500\n",
    "GROUP BY end_station_id, subscriber_type\n",
    "ORDER BY end_station_id;```"
   ]
  },
  {
   "cell_type": "code",
   "execution_count": 56,
   "metadata": {},
   "outputs": [
    {
     "name": "stderr",
     "output_type": "stream",
     "text": [
      "Query complete after 0.00s: 100%|██████████| 8/8 [00:00<00:00, 1882.75query/s]                        \n",
      "Downloading: 100%|██████████| 20/20 [00:00<00:00, 21.53rows/s]\n"
     ]
    }
   ],
   "source": [
    "%%bigquery t2\n",
    "SELECT stations.end_station_id, \n",
    "counts.num_trips, counts.subscriber_type, \n",
    "FROM `alien-house-324100.Project_1.top_10_commuter_stations` AS stations\n",
    "INNER JOIN `alien-house-324100.Project_1.commuter_trip_counts` AS counts\n",
    "ON stations.end_station_id = counts.end_station_id"
   ]
  },
  {
   "cell_type": "code",
   "execution_count": 67,
   "metadata": {},
   "outputs": [
    {
     "data": {
      "text/html": [
       "<div>\n",
       "<style scoped>\n",
       "    .dataframe tbody tr th:only-of-type {\n",
       "        vertical-align: middle;\n",
       "    }\n",
       "\n",
       "    .dataframe tbody tr th {\n",
       "        vertical-align: top;\n",
       "    }\n",
       "\n",
       "    .dataframe thead th {\n",
       "        text-align: right;\n",
       "    }\n",
       "</style>\n",
       "<table border=\"1\" class=\"dataframe\">\n",
       "  <thead>\n",
       "    <tr style=\"text-align: right;\">\n",
       "      <th>subscriber_type</th>\n",
       "      <th>Customer</th>\n",
       "      <th>Subscriber</th>\n",
       "    </tr>\n",
       "    <tr>\n",
       "      <th>end_station_id</th>\n",
       "      <th></th>\n",
       "      <th></th>\n",
       "    </tr>\n",
       "  </thead>\n",
       "  <tbody>\n",
       "    <tr>\n",
       "      <th>50</th>\n",
       "      <td>320</td>\n",
       "      <td>5923</td>\n",
       "    </tr>\n",
       "    <tr>\n",
       "      <th>51</th>\n",
       "      <td>75</td>\n",
       "      <td>6674</td>\n",
       "    </tr>\n",
       "    <tr>\n",
       "      <th>60</th>\n",
       "      <td>467</td>\n",
       "      <td>7324</td>\n",
       "    </tr>\n",
       "    <tr>\n",
       "      <th>61</th>\n",
       "      <td>170</td>\n",
       "      <td>10127</td>\n",
       "    </tr>\n",
       "    <tr>\n",
       "      <th>63</th>\n",
       "      <td>110</td>\n",
       "      <td>6145</td>\n",
       "    </tr>\n",
       "    <tr>\n",
       "      <th>65</th>\n",
       "      <td>225</td>\n",
       "      <td>9902</td>\n",
       "    </tr>\n",
       "    <tr>\n",
       "      <th>69</th>\n",
       "      <td>175</td>\n",
       "      <td>6493</td>\n",
       "    </tr>\n",
       "    <tr>\n",
       "      <th>70</th>\n",
       "      <td>305</td>\n",
       "      <td>13354</td>\n",
       "    </tr>\n",
       "    <tr>\n",
       "      <th>74</th>\n",
       "      <td>231</td>\n",
       "      <td>6606</td>\n",
       "    </tr>\n",
       "    <tr>\n",
       "      <th>77</th>\n",
       "      <td>189</td>\n",
       "      <td>8050</td>\n",
       "    </tr>\n",
       "  </tbody>\n",
       "</table>\n",
       "</div>"
      ],
      "text/plain": [
       "subscriber_type  Customer  Subscriber\n",
       "end_station_id                       \n",
       "50                    320        5923\n",
       "51                     75        6674\n",
       "60                    467        7324\n",
       "61                    170       10127\n",
       "63                    110        6145\n",
       "65                    225        9902\n",
       "69                    175        6493\n",
       "70                    305       13354\n",
       "74                    231        6606\n",
       "77                    189        8050"
      ]
     },
     "execution_count": 67,
     "metadata": {},
     "output_type": "execute_result"
    }
   ],
   "source": [
    "v1 = pd.pivot_table(t2, values='num_trips', index=['end_station_id'],\n",
    "                    columns=['subscriber_type'])\n",
    "v1"
   ]
  },
  {
   "cell_type": "code",
   "execution_count": 68,
   "metadata": {},
   "outputs": [
    {
     "data": {
      "text/plain": [
       "<matplotlib.legend.Legend at 0x7f450a3eb850>"
      ]
     },
     "execution_count": 68,
     "metadata": {},
     "output_type": "execute_result"
    },
    {
     "data": {
      "image/png": "[encoded data removed]",
      "text/plain": [
       "<Figure size 1440x720 with 1 Axes>"
      ]
     },
     "metadata": {
      "needs_background": "light"
     },
     "output_type": "display_data"
    }
   ],
   "source": [
    "v1fig = plt.figure(figsize=(20, 10))\n",
    "v1ax = v1fig.add_subplot(1,1,1)\n",
    "bar1 = v1['Customer']\n",
    "bar2 = v1['Subscriber']\n",
    "x = np.arange(len(v1.index))  # the label locations\n",
    "width = 0.35  # the width of the bars\n",
    "rects1 = v1ax.bar(x - width/2, bar1, width, label='Customer')\n",
    "rects2 = v1ax.bar(x + width/2, bar2, width, label='Subscriber')\n",
    "\n",
    "v1ax.set_ylabel('Number of Trips')\n",
    "v1ax.set_xlabel('Station ID')\n",
    "v1ax.set_title('Number of Trips by Top 10 Morning Commute Stations by Subscriber Type')\n",
    "v1ax.set_xticks(x)\n",
    "v1ax.set_xticklabels(v1.index, rotation = 70, ha=\"center\")\n",
    "v1ax.set_ylim(0,17500)\n",
    "v1ax.legend()\n",
    "plt.legend(loc=2, prop={'size': 15})"
   ]
  },
  {
   "cell_type": "markdown",
   "metadata": {},
   "source": [
    "From this output, we can see that the primary morning commuter stations are all primarily utilized by subscribers rather than customers. What this means is that those we are assuming to be corporate commuters do have memberships. Therefore, we do not need to funnel more money into promoting this option. However, we cannot tell from our data if they are signed up for corporate membership. If we had this data, we could determine if corporate memberships were being utilized and if they weren't we could advise members to look into whether their company offers that subsidy."
   ]
  },
  {
   "cell_type": "markdown",
   "metadata": {},
   "source": [
    "- Are pass customers typically riding for more than 30 min?"
   ]
  },
  {
   "cell_type": "code",
   "execution_count": 61,
   "metadata": {},
   "outputs": [
    {
     "name": "stderr",
     "output_type": "stream",
     "text": [
      "Query complete after 0.00s: 100%|██████████| 3/3 [00:00<00:00, 937.90query/s]                         \n",
      "Downloading: 100%|██████████| 3/3 [00:00<00:00,  3.34rows/s]\n"
     ]
    }
   ],
   "source": [
    "%%bigquery cust_rides\n",
    "WITH Input AS (\n",
    "    SELECT trip_id, duration_sec, \n",
    "    CASE WHEN duration_sec BETWEEN 0 AND 1799 THEN \"< 30 Min\"\n",
    "    WHEN duration_sec BETWEEN 1800 AND 2699 THEN \"30-45 Min\"\n",
    "    ELSE \"> 45 Min\"\n",
    "    END AS trip_length\n",
    "    FROM bigquery-public-data.san_francisco.bikeshare_trips\n",
    "    WHERE subscriber_type = \"Customer\"\n",
    ")\n",
    "SELECT COUNT(DISTINCT trip_id) AS num_trips, trip_length\n",
    "FROM Input\n",
    "GROUP BY trip_length"
   ]
  },
  {
   "cell_type": "code",
   "execution_count": 62,
   "metadata": {},
   "outputs": [
    {
     "data": {
      "text/html": [
       "<div>\n",
       "<style scoped>\n",
       "    .dataframe tbody tr th:only-of-type {\n",
       "        vertical-align: middle;\n",
       "    }\n",
       "\n",
       "    .dataframe tbody tr th {\n",
       "        vertical-align: top;\n",
       "    }\n",
       "\n",
       "    .dataframe thead th {\n",
       "        text-align: right;\n",
       "    }\n",
       "</style>\n",
       "<table border=\"1\" class=\"dataframe\">\n",
       "  <thead>\n",
       "    <tr style=\"text-align: right;\">\n",
       "      <th></th>\n",
       "      <th>num_trips</th>\n",
       "      <th>trip_length</th>\n",
       "    </tr>\n",
       "  </thead>\n",
       "  <tbody>\n",
       "    <tr>\n",
       "      <th>0</th>\n",
       "      <td>10521</td>\n",
       "      <td>30-45 Min</td>\n",
       "    </tr>\n",
       "    <tr>\n",
       "      <th>1</th>\n",
       "      <td>31511</td>\n",
       "      <td>&gt; 45 Min</td>\n",
       "    </tr>\n",
       "    <tr>\n",
       "      <th>2</th>\n",
       "      <td>94777</td>\n",
       "      <td>&lt; 30 Min</td>\n",
       "    </tr>\n",
       "  </tbody>\n",
       "</table>\n",
       "</div>"
      ],
      "text/plain": [
       "   num_trips trip_length\n",
       "0      10521   30-45 Min\n",
       "1      31511    > 45 Min\n",
       "2      94777    < 30 Min"
      ]
     },
     "execution_count": 62,
     "metadata": {},
     "output_type": "execute_result"
    }
   ],
   "source": [
    "cust_rides"
   ]
  },
  {
   "cell_type": "markdown",
   "metadata": {},
   "source": [
    "We know that there are 136,809 customer ride trips total. 42,013 of them, 30% of the total, are greater than 30 minutes. The reason that this is important is because after pass rides are longer than 30 minutes, they're charged 3 more dollars off the bat, meaning they are paying half the cost of a monthly unlimited membership. My recommendation is to target these day pass riders that exceed their alloted 30 minutes and prompt them with an offer for the monthly membership and an explanation of the cost breakdown."
   ]
  },
  {
   "cell_type": "markdown",
   "metadata": {},
   "source": [
    "- Are most of the trips around universities taken by pass or membership holders?"
   ]
  },
  {
   "cell_type": "code",
   "execution_count": 63,
   "metadata": {},
   "outputs": [
    {
     "name": "stderr",
     "output_type": "stream",
     "text": [
      "Query complete after 0.00s: 100%|██████████| 4/4 [00:00<00:00, 1330.15query/s]                        \n",
      "Downloading: 100%|██████████| 23/23 [00:01<00:00, 18.28rows/s]\n"
     ]
    }
   ],
   "source": [
    "%%bigquery uni_rides\n",
    "SELECT COUNT (DISTINCT trip_id) AS num_trips, subscriber_type, zip_code\n",
    "FROM `bigquery-public-data.san_francisco.bikeshare_trips`\n",
    "WHERE time(CAST(start_date AS datetime)) BETWEEN \"09:00:00\" AND \"16:00:00\"\n",
    "AND duration_sec < 1500\n",
    "AND zip_code IN (\"94117\", \"94132\", \"94305\", \"94720\",\n",
    "\"94112\", \"94613\", \"94618\", \"95053\", \"94105\", \"94704\", \"90240\",\n",
    "\"94133\", \"94542\", \"95192\", \"95128\")\n",
    "GROUP BY subscriber_type, zip_code\n",
    "ORDER BY zip_code"
   ]
  },
  {
   "cell_type": "code",
   "execution_count": 71,
   "metadata": {},
   "outputs": [
    {
     "data": {
      "text/html": [
       "<div>\n",
       "<style scoped>\n",
       "    .dataframe tbody tr th:only-of-type {\n",
       "        vertical-align: middle;\n",
       "    }\n",
       "\n",
       "    .dataframe tbody tr th {\n",
       "        vertical-align: top;\n",
       "    }\n",
       "\n",
       "    .dataframe thead th {\n",
       "        text-align: right;\n",
       "    }\n",
       "</style>\n",
       "<table border=\"1\" class=\"dataframe\">\n",
       "  <thead>\n",
       "    <tr style=\"text-align: right;\">\n",
       "      <th>subscriber_type</th>\n",
       "      <th>Customer</th>\n",
       "      <th>Subscriber</th>\n",
       "    </tr>\n",
       "    <tr>\n",
       "      <th>zip_code</th>\n",
       "      <th></th>\n",
       "      <th></th>\n",
       "    </tr>\n",
       "  </thead>\n",
       "  <tbody>\n",
       "    <tr>\n",
       "      <th>90240</th>\n",
       "      <td>3.0</td>\n",
       "      <td>0.0</td>\n",
       "    </tr>\n",
       "    <tr>\n",
       "      <th>94105</th>\n",
       "      <td>617.0</td>\n",
       "      <td>21696.0</td>\n",
       "    </tr>\n",
       "    <tr>\n",
       "      <th>94112</th>\n",
       "      <td>101.0</td>\n",
       "      <td>2133.0</td>\n",
       "    </tr>\n",
       "    <tr>\n",
       "      <th>94117</th>\n",
       "      <td>377.0</td>\n",
       "      <td>5471.0</td>\n",
       "    </tr>\n",
       "    <tr>\n",
       "      <th>94132</th>\n",
       "      <td>55.0</td>\n",
       "      <td>1088.0</td>\n",
       "    </tr>\n",
       "    <tr>\n",
       "      <th>94133</th>\n",
       "      <td>452.0</td>\n",
       "      <td>13875.0</td>\n",
       "    </tr>\n",
       "    <tr>\n",
       "      <th>94305</th>\n",
       "      <td>27.0</td>\n",
       "      <td>217.0</td>\n",
       "    </tr>\n",
       "    <tr>\n",
       "      <th>94542</th>\n",
       "      <td>6.0</td>\n",
       "      <td>62.0</td>\n",
       "    </tr>\n",
       "    <tr>\n",
       "      <th>94618</th>\n",
       "      <td>60.0</td>\n",
       "      <td>1450.0</td>\n",
       "    </tr>\n",
       "    <tr>\n",
       "      <th>94704</th>\n",
       "      <td>71.0</td>\n",
       "      <td>959.0</td>\n",
       "    </tr>\n",
       "    <tr>\n",
       "      <th>94720</th>\n",
       "      <td>10.0</td>\n",
       "      <td>0.0</td>\n",
       "    </tr>\n",
       "    <tr>\n",
       "      <th>95053</th>\n",
       "      <td>5.0</td>\n",
       "      <td>0.0</td>\n",
       "    </tr>\n",
       "    <tr>\n",
       "      <th>95128</th>\n",
       "      <td>35.0</td>\n",
       "      <td>58.0</td>\n",
       "    </tr>\n",
       "  </tbody>\n",
       "</table>\n",
       "</div>"
      ],
      "text/plain": [
       "subscriber_type  Customer  Subscriber\n",
       "zip_code                             \n",
       "90240                 3.0         0.0\n",
       "94105               617.0     21696.0\n",
       "94112               101.0      2133.0\n",
       "94117               377.0      5471.0\n",
       "94132                55.0      1088.0\n",
       "94133               452.0     13875.0\n",
       "94305                27.0       217.0\n",
       "94542                 6.0        62.0\n",
       "94618                60.0      1450.0\n",
       "94704                71.0       959.0\n",
       "94720                10.0         0.0\n",
       "95053                 5.0         0.0\n",
       "95128                35.0        58.0"
      ]
     },
     "execution_count": 71,
     "metadata": {},
     "output_type": "execute_result"
    }
   ],
   "source": [
    "v2 = pd.pivot_table(uni_rides, values='num_trips', index=['zip_code'],\n",
    "                    columns=['subscriber_type'])\n",
    "v2['Subscriber'] = v2['Subscriber'].fillna(0)\n",
    "v2"
   ]
  },
  {
   "cell_type": "code",
   "execution_count": 73,
   "metadata": {},
   "outputs": [
    {
     "data": {
      "text/plain": [
       "<matplotlib.legend.Legend at 0x7f450a3f17d0>"
      ]
     },
     "execution_count": 73,
     "metadata": {},
     "output_type": "execute_result"
    },
    {
     "data": {
      "image/png": "[encoded data removed]",
      "text/plain": [
       "<Figure size 1440x720 with 1 Axes>"
      ]
     },
     "metadata": {
      "needs_background": "light"
     },
     "output_type": "display_data"
    }
   ],
   "source": [
    "v2fig = plt.figure(figsize=(20, 10))\n",
    "v2ax = v2fig.add_subplot(1,1,1)\n",
    "v2bar1 = v2['Customer']\n",
    "v2bar2 = v2['Subscriber']\n",
    "v2x = np.arange(len(v2.index))  # the label locations\n",
    "width = 0.35  # the width of the bars\n",
    "v2rects1 = v2ax.bar(v2x - width/2, v2bar1, width, label='Customer')\n",
    "v2rects2 = v2ax.bar(v2x + width/2, v2bar2, width, label='Subscriber')\n",
    "\n",
    "v2ax.set_ylabel('Number of Trips')\n",
    "v2ax.set_xlabel('Zip Code')\n",
    "v2ax.set_title('Number of Trips in University Zip Codes by Subscriber Type')\n",
    "v2ax.set_xticks(v2x)\n",
    "v2ax.set_xticklabels(v2.index, rotation = 70, ha=\"center\")\n",
    "#v1ax.set_ylim(0,17500)\n",
    "v2ax.legend()\n",
    "plt.legend(loc=2, prop={'size': 15})"
   ]
  },
  {
   "cell_type": "markdown",
   "metadata": {},
   "source": [
    "These selected zip codes were found from the Bay Wheels map to be those around the universities in network. The output of this query shows that for all of these zip codes, a large majority of the rides are coming from subcribers over one time customers, so memberships are probably being utlitized by these university students. However, I can't tell if they have used the monthly membership or an annual membership so we may want to get additional customer data to see if the annual relationship is being utilized. Secondly, we have no data to provide insight on if university discounts are being used. "
   ]
  },
  {
   "cell_type": "markdown",
   "metadata": {},
   "source": [
    "- Are members of communities in the lowest income areas taking advantage of our bikes and bike share for all offer"
   ]
  },
  {
   "cell_type": "markdown",
   "metadata": {},
   "source": [
    "```CREATE VIEW Project_1.trips_by_zip AS\n",
    "SELECT COUNT (DISTINCT trip_id) AS num_trips, zip_code\n",
    "FROM `bigquery-public-data.san_francisco.bikeshare_trips`\n",
    "WHERE  zip_code BETWEEN \"90000\" AND \"99999\"\n",
    "GROUP BY zip_code\n",
    "ORDER BY num_trips DESC```"
   ]
  },
  {
   "cell_type": "code",
   "execution_count": 79,
   "metadata": {},
   "outputs": [
    {
     "name": "stderr",
     "output_type": "stream",
     "text": [
      "Query complete after 0.00s: 100%|██████████| 6/6 [00:00<00:00, 1516.93query/s]                        \n",
      "Downloading: 100%|██████████| 15/15 [00:01<00:00, 11.79rows/s]\n"
     ]
    }
   ],
   "source": [
    "%%bigquery low_income\n",
    "SELECT income.median_income, income.zip_code,zip.num_trips\n",
    "FROM `alien-house-324100.Project_1.CA_Income` AS income\n",
    "INNER JOIN `alien-house-324100.Project_1.trips_by_zip` AS zip\n",
    "ON TRIM(income.zip_code) = TRIM(zip.zip_code)\n",
    "ORDER BY median_income\n",
    "LIMIT 15"
   ]
  },
  {
   "cell_type": "code",
   "execution_count": 80,
   "metadata": {},
   "outputs": [
    {
     "data": {
      "text/html": [
       "<div>\n",
       "<style scoped>\n",
       "    .dataframe tbody tr th:only-of-type {\n",
       "        vertical-align: middle;\n",
       "    }\n",
       "\n",
       "    .dataframe tbody tr th {\n",
       "        vertical-align: top;\n",
       "    }\n",
       "\n",
       "    .dataframe thead th {\n",
       "        text-align: right;\n",
       "    }\n",
       "</style>\n",
       "<table border=\"1\" class=\"dataframe\">\n",
       "  <thead>\n",
       "    <tr style=\"text-align: right;\">\n",
       "      <th></th>\n",
       "      <th>median_income</th>\n",
       "      <th>zip_code</th>\n",
       "      <th>num_trips</th>\n",
       "    </tr>\n",
       "  </thead>\n",
       "  <tbody>\n",
       "    <tr>\n",
       "      <th>0</th>\n",
       "      <td>10625</td>\n",
       "      <td>90089</td>\n",
       "      <td>16</td>\n",
       "    </tr>\n",
       "    <tr>\n",
       "      <th>1</th>\n",
       "      <td>11922</td>\n",
       "      <td>93721</td>\n",
       "      <td>2</td>\n",
       "    </tr>\n",
       "    <tr>\n",
       "      <th>2</th>\n",
       "      <td>12748</td>\n",
       "      <td>90021</td>\n",
       "      <td>7</td>\n",
       "    </tr>\n",
       "    <tr>\n",
       "      <th>3</th>\n",
       "      <td>15988</td>\n",
       "      <td>90058</td>\n",
       "      <td>3</td>\n",
       "    </tr>\n",
       "    <tr>\n",
       "      <th>4</th>\n",
       "      <td>16649</td>\n",
       "      <td>92401</td>\n",
       "      <td>3</td>\n",
       "    </tr>\n",
       "    <tr>\n",
       "      <th>5</th>\n",
       "      <td>17134</td>\n",
       "      <td>90014</td>\n",
       "      <td>17</td>\n",
       "    </tr>\n",
       "    <tr>\n",
       "      <th>6</th>\n",
       "      <td>19922</td>\n",
       "      <td>95225</td>\n",
       "      <td>2</td>\n",
       "    </tr>\n",
       "    <tr>\n",
       "      <th>7</th>\n",
       "      <td>20896</td>\n",
       "      <td>93258</td>\n",
       "      <td>1</td>\n",
       "    </tr>\n",
       "    <tr>\n",
       "      <th>8</th>\n",
       "      <td>21009</td>\n",
       "      <td>90017</td>\n",
       "      <td>46</td>\n",
       "    </tr>\n",
       "    <tr>\n",
       "      <th>9</th>\n",
       "      <td>21120</td>\n",
       "      <td>90013</td>\n",
       "      <td>18</td>\n",
       "    </tr>\n",
       "    <tr>\n",
       "      <th>10</th>\n",
       "      <td>21333</td>\n",
       "      <td>94950</td>\n",
       "      <td>1</td>\n",
       "    </tr>\n",
       "    <tr>\n",
       "      <th>11</th>\n",
       "      <td>22646</td>\n",
       "      <td>90007</td>\n",
       "      <td>65</td>\n",
       "    </tr>\n",
       "    <tr>\n",
       "      <th>12</th>\n",
       "      <td>25662</td>\n",
       "      <td>96047</td>\n",
       "      <td>15</td>\n",
       "    </tr>\n",
       "    <tr>\n",
       "      <th>13</th>\n",
       "      <td>25934</td>\n",
       "      <td>95422</td>\n",
       "      <td>1</td>\n",
       "    </tr>\n",
       "    <tr>\n",
       "      <th>14</th>\n",
       "      <td>26031</td>\n",
       "      <td>93702</td>\n",
       "      <td>2</td>\n",
       "    </tr>\n",
       "  </tbody>\n",
       "</table>\n",
       "</div>"
      ],
      "text/plain": [
       "    median_income zip_code  num_trips\n",
       "0           10625   90089          16\n",
       "1           11922   93721           2\n",
       "2           12748   90021           7\n",
       "3           15988   90058           3\n",
       "4           16649   92401           3\n",
       "5           17134   90014          17\n",
       "6           19922   95225           2\n",
       "7           20896   93258           1\n",
       "8           21009   90017          46\n",
       "9           21120   90013          18\n",
       "10          21333   94950           1\n",
       "11          22646   90007          65\n",
       "12          25662   96047          15\n",
       "13          25934   95422           1\n",
       "14          26031   93702           2"
      ]
     },
     "execution_count": 80,
     "metadata": {},
     "output_type": "execute_result"
    }
   ],
   "source": [
    "low_income"
   ]
  },
  {
   "cell_type": "code",
   "execution_count": 88,
   "metadata": {},
   "outputs": [
    {
     "data": {
      "image/png": "[encoded data removed]",
      "text/plain": [
       "<Figure size 720x360 with 1 Axes>"
      ]
     },
     "metadata": {
      "needs_background": "light"
     },
     "output_type": "display_data"
    }
   ],
   "source": [
    "fig3 = plt.figure(figsize = (10, 5))\n",
    "v3ax = fig3.add_subplot(1,1,1)\n",
    "\n",
    "v3ax.bar(low_income['zip_code'], low_income['num_trips'], color ='maroon',\n",
    "        width = 0.4)\n",
    "v3ax.plot(low_income['zip_code'], [433 for i in range(0,len(low_income['zip_code']))], '-r')\n",
    "v3ax.annotate(\"Average Number of Trips per Zip Code\", xy = (90014, 433), \n",
    "            xytext = (90058, 350),\n",
    "            arrowprops=dict(facecolor='black', shrink=0.05))\n",
    "v3ax.set_xlabel(\"Zip Codes\")\n",
    "v3ax.set_ylabel(\"Number of Trips\")\n",
    "v3ax.set_title(\"Number of Trips for the Top 10 Lowest Income Zip Codes\")\n",
    "plt.show()"
   ]
  },
  {
   "cell_type": "markdown",
   "metadata": {},
   "source": [
    "From part 2, we discovered that the average number of trips taken by users within a particular zip code was around 433. To determine if ridership was strong in low income zip codes, I pulled in the median household income by california zip code data and stored it in a table. Then I took the number of trips by zip code and compared them against the lowest income niehgborhoods. The average number of trips taken by a typical zip code is shown as the red line, and the final outputs shows that the fifteen lowest income zipcodes all have a number of rides far below the average, so on the mobile app we should promote bike access for all to people in these zip codes.  "
   ]
  }
 ],
 "metadata": {
  "environment": {
   "name": "common-cpu.m78",
   "type": "gcloud",
   "uri": "gcr.io/deeplearning-platform-release/base-cpu:m78"
  },
  "kernelspec": {
   "display_name": "Python 3",
   "language": "python",
   "name": "python3"
  },
  "language_info": {
   "codemirror_mode": {
    "name": "ipython",
    "version": 3
   },
   "file_extension": ".py",
   "mimetype": "text/x-python",
   "name": "python",
   "nbconvert_exporter": "python",
   "pygments_lexer": "ipython3",
   "version": "3.7.10"
  }
 },
 "nbformat": 4,
 "nbformat_minor": 4
}
